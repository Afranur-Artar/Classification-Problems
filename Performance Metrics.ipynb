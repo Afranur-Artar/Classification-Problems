{
 "cells": [
  {
   "cell_type": "code",
   "execution_count": 27,
   "metadata": {},
   "outputs": [],
   "source": [
    "import pandas as pd\n",
    "import numpy as np\n",
    "import matplotlib.pyplot as plt\n",
    "import seaborn as sns\n",
    "from sklearn.linear_model import LinearRegression\n",
    "from sklearn import linear_model\n",
    "from sklearn.model_selection import train_test_split\n",
    "from sklearn.metrics import accuracy_score,classification_report,confusion_matrix,f1_score,log_loss,precision_score,precision_recall_curve, recall_score\n",
    "import warnings\n",
    "warnings.filterwarnings(\"ignore\")"
   ]
  },
  {
   "cell_type": "markdown",
   "metadata": {},
   "source": [
    "# Soru 1:\n",
    "In this assignment, you will measure the performance of the model you created with the Titanic data in the previous lesson. \n",
    "\n",
    "* Evaluate the performance of your model with the metrics you have learned in this course.\n",
    "* Plot the ROC and the precision / recall curves for different \"c\" values."
   ]
  },
  {
   "cell_type": "code",
   "execution_count": 2,
   "metadata": {},
   "outputs": [
    {
     "data": {
      "text/html": [
       "<div>\n",
       "<style scoped>\n",
       "    .dataframe tbody tr th:only-of-type {\n",
       "        vertical-align: middle;\n",
       "    }\n",
       "\n",
       "    .dataframe tbody tr th {\n",
       "        vertical-align: top;\n",
       "    }\n",
       "\n",
       "    .dataframe thead th {\n",
       "        text-align: right;\n",
       "    }\n",
       "</style>\n",
       "<table border=\"1\" class=\"dataframe\">\n",
       "  <thead>\n",
       "    <tr style=\"text-align: right;\">\n",
       "      <th></th>\n",
       "      <th>PassengerId</th>\n",
       "      <th>Survived</th>\n",
       "      <th>Pclass</th>\n",
       "      <th>Name</th>\n",
       "      <th>Sex</th>\n",
       "      <th>Age</th>\n",
       "      <th>SibSp</th>\n",
       "      <th>Parch</th>\n",
       "      <th>Ticket</th>\n",
       "      <th>Fare</th>\n",
       "      <th>Cabin</th>\n",
       "      <th>Embarked</th>\n",
       "    </tr>\n",
       "  </thead>\n",
       "  <tbody>\n",
       "    <tr>\n",
       "      <th>0</th>\n",
       "      <td>1</td>\n",
       "      <td>0</td>\n",
       "      <td>3</td>\n",
       "      <td>Braund, Mr. Owen Harris</td>\n",
       "      <td>male</td>\n",
       "      <td>22.0</td>\n",
       "      <td>1</td>\n",
       "      <td>0</td>\n",
       "      <td>A/5 21171</td>\n",
       "      <td>7.2500</td>\n",
       "      <td>NaN</td>\n",
       "      <td>S</td>\n",
       "    </tr>\n",
       "    <tr>\n",
       "      <th>1</th>\n",
       "      <td>2</td>\n",
       "      <td>1</td>\n",
       "      <td>1</td>\n",
       "      <td>Cumings, Mrs. John Bradley (Florence Briggs Th...</td>\n",
       "      <td>female</td>\n",
       "      <td>38.0</td>\n",
       "      <td>1</td>\n",
       "      <td>0</td>\n",
       "      <td>PC 17599</td>\n",
       "      <td>71.2833</td>\n",
       "      <td>C85</td>\n",
       "      <td>C</td>\n",
       "    </tr>\n",
       "    <tr>\n",
       "      <th>2</th>\n",
       "      <td>3</td>\n",
       "      <td>1</td>\n",
       "      <td>3</td>\n",
       "      <td>Heikkinen, Miss. Laina</td>\n",
       "      <td>female</td>\n",
       "      <td>26.0</td>\n",
       "      <td>0</td>\n",
       "      <td>0</td>\n",
       "      <td>STON/O2. 3101282</td>\n",
       "      <td>7.9250</td>\n",
       "      <td>NaN</td>\n",
       "      <td>S</td>\n",
       "    </tr>\n",
       "  </tbody>\n",
       "</table>\n",
       "</div>"
      ],
      "text/plain": [
       "   PassengerId  Survived  Pclass  \\\n",
       "0            1         0       3   \n",
       "1            2         1       1   \n",
       "2            3         1       3   \n",
       "\n",
       "                                                Name     Sex   Age  SibSp  \\\n",
       "0                            Braund, Mr. Owen Harris    male  22.0      1   \n",
       "1  Cumings, Mrs. John Bradley (Florence Briggs Th...  female  38.0      1   \n",
       "2                             Heikkinen, Miss. Laina  female  26.0      0   \n",
       "\n",
       "   Parch            Ticket     Fare Cabin Embarked  \n",
       "0      0         A/5 21171   7.2500   NaN        S  \n",
       "1      0          PC 17599  71.2833   C85        C  \n",
       "2      0  STON/O2. 3101282   7.9250   NaN        S  "
      ]
     },
     "execution_count": 2,
     "metadata": {},
     "output_type": "execute_result"
    }
   ],
   "source": [
    "df=pd.read_csv(\"titanic.csv\")\n",
    "df.head(3)"
   ]
  },
  {
   "cell_type": "code",
   "execution_count": 6,
   "metadata": {},
   "outputs": [
    {
     "data": {
      "text/plain": [
       "PassengerId    0\n",
       "Survived       0\n",
       "Pclass         0\n",
       "Name           0\n",
       "Sex            0\n",
       "Age            0\n",
       "SibSp          0\n",
       "Parch          0\n",
       "Ticket         0\n",
       "Fare           0\n",
       "Cabin          0\n",
       "Embarked       0\n",
       "C              0\n",
       "Q              0\n",
       "S              0\n",
       "dtype: int64"
      ]
     },
     "execution_count": 6,
     "metadata": {},
     "output_type": "execute_result"
    }
   ],
   "source": [
    "df.isnull().sum()"
   ]
  },
  {
   "cell_type": "code",
   "execution_count": 3,
   "metadata": {},
   "outputs": [],
   "source": [
    "df[\"Cabin\"].fillna(df[\"Cabin\"].mode()[0], inplace=True)\n",
    "df[\"Embarked\"].fillna(df[\"Embarked\"].mode()[0], inplace=True)\n",
    "df[\"Age\"]=df.groupby(\"Sex\")[\"Age\"].apply(lambda x: x.fillna(x.mode()[0]))"
   ]
  },
  {
   "cell_type": "code",
   "execution_count": 4,
   "metadata": {},
   "outputs": [],
   "source": [
    "df[\"Sex\"]=pd.get_dummies(df[\"Sex\"],drop_first=True)"
   ]
  },
  {
   "cell_type": "code",
   "execution_count": 5,
   "metadata": {},
   "outputs": [
    {
     "data": {
      "text/html": [
       "<div>\n",
       "<style scoped>\n",
       "    .dataframe tbody tr th:only-of-type {\n",
       "        vertical-align: middle;\n",
       "    }\n",
       "\n",
       "    .dataframe tbody tr th {\n",
       "        vertical-align: top;\n",
       "    }\n",
       "\n",
       "    .dataframe thead th {\n",
       "        text-align: right;\n",
       "    }\n",
       "</style>\n",
       "<table border=\"1\" class=\"dataframe\">\n",
       "  <thead>\n",
       "    <tr style=\"text-align: right;\">\n",
       "      <th></th>\n",
       "      <th>PassengerId</th>\n",
       "      <th>Survived</th>\n",
       "      <th>Pclass</th>\n",
       "      <th>Name</th>\n",
       "      <th>Sex</th>\n",
       "      <th>Age</th>\n",
       "      <th>SibSp</th>\n",
       "      <th>Parch</th>\n",
       "      <th>Ticket</th>\n",
       "      <th>Fare</th>\n",
       "      <th>Cabin</th>\n",
       "      <th>Embarked</th>\n",
       "      <th>C</th>\n",
       "      <th>Q</th>\n",
       "      <th>S</th>\n",
       "    </tr>\n",
       "  </thead>\n",
       "  <tbody>\n",
       "    <tr>\n",
       "      <th>0</th>\n",
       "      <td>1</td>\n",
       "      <td>0</td>\n",
       "      <td>3</td>\n",
       "      <td>Braund, Mr. Owen Harris</td>\n",
       "      <td>1</td>\n",
       "      <td>22.0</td>\n",
       "      <td>1</td>\n",
       "      <td>0</td>\n",
       "      <td>A/5 21171</td>\n",
       "      <td>7.2500</td>\n",
       "      <td>B96 B98</td>\n",
       "      <td>S</td>\n",
       "      <td>0</td>\n",
       "      <td>0</td>\n",
       "      <td>1</td>\n",
       "    </tr>\n",
       "    <tr>\n",
       "      <th>1</th>\n",
       "      <td>2</td>\n",
       "      <td>1</td>\n",
       "      <td>1</td>\n",
       "      <td>Cumings, Mrs. John Bradley (Florence Briggs Th...</td>\n",
       "      <td>0</td>\n",
       "      <td>38.0</td>\n",
       "      <td>1</td>\n",
       "      <td>0</td>\n",
       "      <td>PC 17599</td>\n",
       "      <td>71.2833</td>\n",
       "      <td>C85</td>\n",
       "      <td>C</td>\n",
       "      <td>1</td>\n",
       "      <td>0</td>\n",
       "      <td>0</td>\n",
       "    </tr>\n",
       "    <tr>\n",
       "      <th>2</th>\n",
       "      <td>3</td>\n",
       "      <td>1</td>\n",
       "      <td>3</td>\n",
       "      <td>Heikkinen, Miss. Laina</td>\n",
       "      <td>0</td>\n",
       "      <td>26.0</td>\n",
       "      <td>0</td>\n",
       "      <td>0</td>\n",
       "      <td>STON/O2. 3101282</td>\n",
       "      <td>7.9250</td>\n",
       "      <td>B96 B98</td>\n",
       "      <td>S</td>\n",
       "      <td>0</td>\n",
       "      <td>0</td>\n",
       "      <td>1</td>\n",
       "    </tr>\n",
       "  </tbody>\n",
       "</table>\n",
       "</div>"
      ],
      "text/plain": [
       "   PassengerId  Survived  Pclass  \\\n",
       "0            1         0       3   \n",
       "1            2         1       1   \n",
       "2            3         1       3   \n",
       "\n",
       "                                                Name  Sex   Age  SibSp  Parch  \\\n",
       "0                            Braund, Mr. Owen Harris    1  22.0      1      0   \n",
       "1  Cumings, Mrs. John Bradley (Florence Briggs Th...    0  38.0      1      0   \n",
       "2                             Heikkinen, Miss. Laina    0  26.0      0      0   \n",
       "\n",
       "             Ticket     Fare    Cabin Embarked  C  Q  S  \n",
       "0         A/5 21171   7.2500  B96 B98        S  0  0  1  \n",
       "1          PC 17599  71.2833      C85        C  1  0  0  \n",
       "2  STON/O2. 3101282   7.9250  B96 B98        S  0  0  1  "
      ]
     },
     "execution_count": 5,
     "metadata": {},
     "output_type": "execute_result"
    }
   ],
   "source": [
    "embarked=pd.get_dummies(df[\"Embarked\"], drop_first=False)\n",
    "\n",
    "df=pd.concat([df, embarked], axis=1)\n",
    "df.head(3)"
   ]
  },
  {
   "cell_type": "code",
   "execution_count": 11,
   "metadata": {},
   "outputs": [],
   "source": [
    "# Veri temizliğini yaptıktan sonra metrikleri kullanarak performans ölçütlerini yorumlayalım:\n",
    "# Ama öncelikle \"Survived\" binary classification kolonunu tahmin eden Logistic regresyon modelini kuralım:"
   ]
  },
  {
   "cell_type": "code",
   "execution_count": 7,
   "metadata": {},
   "outputs": [],
   "source": [
    "Y=df[\"Survived\"]\n",
    "X=df[[\"Sex\",\"Age\",\"Pclass\"]]"
   ]
  },
  {
   "cell_type": "code",
   "execution_count": 12,
   "metadata": {},
   "outputs": [],
   "source": [
    "X_train, X_test, Y_train, Y_test = train_test_split(X, Y, test_size=0.20, random_state=465)\n",
    "\n",
    "log_reg=linear_model.LogisticRegression()\n",
    "log_reg.fit(X_train,Y_train)\n",
    "\n",
    "y_train_pred=log_reg.predict(X_train)\n",
    "y_test_pred=log_reg.predict(X_test)"
   ]
  },
  {
   "cell_type": "markdown",
   "metadata": {},
   "source": [
    "## CONFUSION MATRIX"
   ]
  },
  {
   "cell_type": "code",
   "execution_count": 32,
   "metadata": {},
   "outputs": [
    {
     "name": "stdout",
     "output_type": "stream",
     "text": [
      "Confusion matrix of train set\n",
      "[[377  57]\n",
      " [ 86 192]]\n",
      "Confusion matrix of test set\n",
      "[[97 18]\n",
      " [20 44]]\n"
     ]
    }
   ],
   "source": [
    "confusion_matrix_train=confusion_matrix(Y_train,y_train_pred)\n",
    "confusion_matrix_test=confusion_matrix(Y_test,y_test_pred)\n",
    "\n",
    "print(\"Confusion matrix of train set\", confusion_matrix_train, sep=\"\\n\")\n",
    "print(\"Confusion matrix of test set\", confusion_matrix_test, sep=\"\\n\")"
   ]
  },
  {
   "cell_type": "code",
   "execution_count": 39,
   "metadata": {},
   "outputs": [
    {
     "name": "stdout",
     "output_type": "stream",
     "text": [
      "True negative  : 97\n",
      "True positive  : 44\n",
      "False positive : 18\n",
      "False negative : 20\n"
     ]
    }
   ],
   "source": [
    "tn=confusion_matrix_test[0][0]\n",
    "tp=confusion_matrix_test[1][1]\n",
    "fn=confusion_matrix_test[1][0]\n",
    "fp=confusion_matrix_test[0][1]\n",
    "\n",
    "print(\"True negative  :\", tn) #97 kişi negatif iken negatif diyerek doğru bilmişim.\n",
    "print(\"True positive  :\", tp) #44 kişi positif iken pozitif diyerek doğru bilmişim.\n",
    "print(\"False positive :\", fp) #18 kişi negatif iken pozitif diyerek yanlış bilmşim.\n",
    "print(\"False negative :\", fn) #20 kişi pozitif iken negatif diyerek yanlış bilmişim. "
   ]
  },
  {
   "cell_type": "markdown",
   "metadata": {},
   "source": [
    "#### 1) Accuracy (Doğruluk)"
   ]
  },
  {
   "cell_type": "code",
   "execution_count": 11,
   "metadata": {},
   "outputs": [
    {
     "name": "stdout",
     "output_type": "stream",
     "text": [
      "Accuracy of train set: : 0.7991573033707865\n",
      "Accuracy of test set:  0.7877094972067039\n"
     ]
    }
   ],
   "source": [
    "print(\"Accuracy of train set: :\", log_reg.score(X_train,Y_train))\n",
    "print(\"Accuracy of test set: \", log_reg.score(X_test,Y_test))\n",
    "\n",
    "# train ve test setlerin accuracyleri arasındaki fark çok az olduğu için overfit değildir denilebilir.\n",
    "# Modelin doğruluğu yaklaşık  % 79 oranındadır, yani % 79 oranında doğru tahmin yapmışım denilebilir."
   ]
  },
  {
   "cell_type": "code",
   "execution_count": 20,
   "metadata": {},
   "outputs": [
    {
     "name": "stdout",
     "output_type": "stream",
     "text": [
      "Train set error term:  0.04073033707865169\n",
      "Test set error term:  0.0111731843575419\n"
     ]
    }
   ],
   "source": [
    "hata1=Y_train-y_train_pred\n",
    "print(\"Train set error term: \",np.mean(hata1))\n",
    "\n",
    "hata2=Y_test-y_test_pred\n",
    "print(\"Test set error term: \",np.mean(hata2))\n",
    "\n",
    "# Test set'in hata oranı, train set'in hata oranından çok daha büyükse overfit vardır denilebilir; ancak bu modelimizde train setin \n",
    "# hata oranı daha yüksek olduğu için overfit yoktur."
   ]
  },
  {
   "cell_type": "markdown",
   "metadata": {},
   "source": [
    "#### 2) Error Rate"
   ]
  },
  {
   "cell_type": "code",
   "execution_count": 21,
   "metadata": {},
   "outputs": [
    {
     "name": "stdout",
     "output_type": "stream",
     "text": [
      "Error rate of train set:  0.2008426966292135\n",
      "Error rate of test set:  0.2122905027932961\n"
     ]
    }
   ],
   "source": [
    "#   error_rate = 1- accuracy\n",
    "\n",
    "accuracy_train=log_reg.score(X_train,Y_train)\n",
    "accuracy_test=log_reg.score(X_test,Y_test)\n",
    "\n",
    "error_rate_train = 1- accuracy_train\n",
    "error_rate_test= 1 - accuracy_test\n",
    "\n",
    "print(\"Error rate of train set: \", error_rate_train)\n",
    "print(\"Error rate of test set: \", error_rate_test)\n",
    "\n",
    "# Ttrain setin tahmininde % 20 oranında hata payı bulunmaktadır."
   ]
  },
  {
   "cell_type": "markdown",
   "metadata": {},
   "source": [
    "#### 3) Precision"
   ]
  },
  {
   "cell_type": "code",
   "execution_count": 26,
   "metadata": {},
   "outputs": [
    {
     "name": "stdout",
     "output_type": "stream",
     "text": [
      "Precision score:  0.7096774193548387\n"
     ]
    }
   ],
   "source": [
    "# Pozitif olarak tahmin edilenlerin ne kadarının gerçekten pozitif olduğunu verir.\n",
    "\n",
    "print(\"Precision score: \", precision_score(Y_test, y_test_pred))\n",
    "\n",
    "# Test setin doğruluğu %78 iken, precision'ı %70 'dir. Yani, gerçekten pozitif olması gerekenlerin %70'ini doğru bildim denilebilir."
   ]
  },
  {
   "cell_type": "markdown",
   "metadata": {},
   "source": [
    "#### 4) Recall(Sensitivity)"
   ]
  },
  {
   "cell_type": "code",
   "execution_count": 28,
   "metadata": {},
   "outputs": [
    {
     "name": "stdout",
     "output_type": "stream",
     "text": [
      "Sensitivity of test set: 0.6875\n"
     ]
    }
   ],
   "source": [
    "# Gerçekten pozitif olanların ne kadarının başarılı tahmin edildiğidir.\n",
    "\n",
    "print(\"Sensitivity of test set:\", recall_score(Y_test,y_test_pred))\n",
    "\n",
    "# Gerçekten pozitif olanların yaklaşık %69' u başarılı tahmin edilmiştir."
   ]
  },
  {
   "cell_type": "markdown",
   "metadata": {},
   "source": [
    "#### 5) Specificity"
   ]
  },
  {
   "cell_type": "code",
   "execution_count": 41,
   "metadata": {},
   "outputs": [
    {
     "name": "stdout",
     "output_type": "stream",
     "text": [
      "0.8434782608695652\n"
     ]
    }
   ],
   "source": [
    "print(tn/(tn+fp))"
   ]
  },
  {
   "cell_type": "markdown",
   "metadata": {},
   "source": [
    "#### 6) F1 Score"
   ]
  },
  {
   "cell_type": "code",
   "execution_count": 42,
   "metadata": {},
   "outputs": [
    {
     "name": "stdout",
     "output_type": "stream",
     "text": [
      "F1 Score:  0.6984126984126984\n"
     ]
    }
   ],
   "source": [
    "print(\"F1 Score: \", f1_score(Y_test,y_test_pred))"
   ]
  },
  {
   "cell_type": "code",
   "execution_count": 43,
   "metadata": {},
   "outputs": [
    {
     "name": "stdout",
     "output_type": "stream",
     "text": [
      "              precision    recall  f1-score   support\n",
      "\n",
      "           0       0.83      0.84      0.84       115\n",
      "           1       0.71      0.69      0.70        64\n",
      "\n",
      "   micro avg       0.79      0.79      0.79       179\n",
      "   macro avg       0.77      0.77      0.77       179\n",
      "weighted avg       0.79      0.79      0.79       179\n",
      "\n"
     ]
    }
   ],
   "source": [
    "print(classification_report(Y_test,y_test_pred))"
   ]
  },
  {
   "cell_type": "markdown",
   "metadata": {},
   "source": [
    "## ROC CURVE"
   ]
  },
  {
   "cell_type": "code",
   "execution_count": 60,
   "metadata": {},
   "outputs": [
    {
     "data": {
      "image/png": "[encoded data removed]",
      "text/plain": [
       "<Figure size 432x288 with 1 Axes>"
      ]
     },
     "metadata": {
      "needs_background": "light"
     },
     "output_type": "display_data"
    }
   ],
   "source": [
    "from sklearn.metrics import roc_curve,roc_auc_score\n",
    "\n",
    "test_pred_proba=log_reg.predict_proba(X_test)[:,1]\n",
    "\n",
    "fpr, tpr, thresholds = roc_curve(Y_test, test_pred_proba)\n",
    "# fpr= false positive rate\n",
    "# tpr= true positive rate\n",
    "\n",
    "plt.plot([0,1],[0,1], 'k--')\n",
    "plt.plot(fpr, tpr)\n",
    "plt.xlabel(\"False positive ratio\")\n",
    "plt.ylabel(\"True positive ratio\")\n",
    "plt.title(\"ROC Curve\");"
   ]
  },
  {
   "cell_type": "code",
   "execution_count": 77,
   "metadata": {},
   "outputs": [
    {
     "data": {
      "text/html": [
       "<div>\n",
       "<style scoped>\n",
       "    .dataframe tbody tr th:only-of-type {\n",
       "        vertical-align: middle;\n",
       "    }\n",
       "\n",
       "    .dataframe tbody tr th {\n",
       "        vertical-align: top;\n",
       "    }\n",
       "\n",
       "    .dataframe thead th {\n",
       "        text-align: right;\n",
       "    }\n",
       "</style>\n",
       "<table border=\"1\" class=\"dataframe\">\n",
       "  <thead>\n",
       "    <tr style=\"text-align: right;\">\n",
       "      <th></th>\n",
       "      <th>c_values</th>\n",
       "      <th>train_accuracy</th>\n",
       "      <th>test_accuracy</th>\n",
       "    </tr>\n",
       "  </thead>\n",
       "  <tbody>\n",
       "    <tr>\n",
       "      <th>0</th>\n",
       "      <td>0.001</td>\n",
       "      <td>0.609551</td>\n",
       "      <td>0.642458</td>\n",
       "    </tr>\n",
       "    <tr>\n",
       "      <th>1</th>\n",
       "      <td>0.010</td>\n",
       "      <td>0.713483</td>\n",
       "      <td>0.765363</td>\n",
       "    </tr>\n",
       "    <tr>\n",
       "      <th>2</th>\n",
       "      <td>0.100</td>\n",
       "      <td>0.786517</td>\n",
       "      <td>0.787709</td>\n",
       "    </tr>\n",
       "    <tr>\n",
       "      <th>3</th>\n",
       "      <td>1.000</td>\n",
       "      <td>0.799157</td>\n",
       "      <td>0.787709</td>\n",
       "    </tr>\n",
       "    <tr>\n",
       "      <th>4</th>\n",
       "      <td>10.000</td>\n",
       "      <td>0.785112</td>\n",
       "      <td>0.793296</td>\n",
       "    </tr>\n",
       "    <tr>\n",
       "      <th>5</th>\n",
       "      <td>100.000</td>\n",
       "      <td>0.786517</td>\n",
       "      <td>0.793296</td>\n",
       "    </tr>\n",
       "  </tbody>\n",
       "</table>\n",
       "</div>"
      ],
      "text/plain": [
       "   c_values  train_accuracy  test_accuracy\n",
       "0     0.001        0.609551       0.642458\n",
       "1     0.010        0.713483       0.765363\n",
       "2     0.100        0.786517       0.787709\n",
       "3     1.000        0.799157       0.787709\n",
       "4    10.000        0.785112       0.793296\n",
       "5   100.000        0.786517       0.793296"
      ]
     },
     "metadata": {},
     "output_type": "display_data"
    }
   ],
   "source": [
    "c_değerleri = [10**i for i in range(-3,3)]\n",
    "accuracy_values=pd.DataFrame(columns=[\"c_values\",\"train_accuracy\",\"test_accuracy\"])\n",
    "\n",
    "for c in c_değerleri:\n",
    "    lr=linear_model.LogisticRegression(penalty=\"l2\",C=c, random_state=0)\n",
    "    lr.fit(X_train,Y_train)\n",
    "    accuracy_values=accuracy_values.append({\"c_values\":c,\n",
    "                                           \"train_accuracy\":lr.score(X_train,Y_train),\n",
    "                                           \"test_accuracy\":lr.score(X_test,Y_test)}, ignore_index=True)\n",
    "    \n",
    "display(accuracy_values)"
   ]
  },
  {
   "cell_type": "code",
   "execution_count": 98,
   "metadata": {},
   "outputs": [
    {
     "data": {
      "image/png": "[encoded data removed]",
      "text/plain": [
       "<Figure size 1000x300 with 1 Axes>"
      ]
     },
     "metadata": {
      "needs_background": "light"
     },
     "output_type": "display_data"
    },
    {
     "data": {
      "image/png": "[encoded data removed]",
      "text/plain": [
       "<Figure size 1000x300 with 1 Axes>"
      ]
     },
     "metadata": {
      "needs_background": "light"
     },
     "output_type": "display_data"
    },
    {
     "data": {
      "image/png": "[encoded data removed]",
      "text/plain": [
       "<Figure size 1000x300 with 1 Axes>"
      ]
     },
     "metadata": {
      "needs_background": "light"
     },
     "output_type": "display_data"
    }
   ],
   "source": [
    "# c=0.001 için;\n",
    "plt.figure(figsize=(10,3),dpi=100)\n",
    "plt.subplot(1,3,1)\n",
    "lr1=linear_model.LogisticRegression(C=0.001, random_state=0)\n",
    "lr1.fit(X_train,Y_train)\n",
    "test_pred_proba1=lr1.predict_proba(X_test)[:,1]\n",
    "\n",
    "fpr, tpr, thresholds = roc_curve(Y_test, test_pred_proba1)\n",
    "\n",
    "plt.plot([0,1],[0,1], 'k--')\n",
    "plt.plot(fpr, tpr)\n",
    "plt.xlabel(\"False positive ratio\")\n",
    "plt.ylabel(\"True positive ratio\")\n",
    "plt.title(\"ROC Curve\")\n",
    "\n",
    "\n",
    "# c=10 için;\n",
    "plt.figure(figsize=(10,3),dpi=100)\n",
    "plt.subplot(1,3,2)\n",
    "lr2=linear_model.LogisticRegression(C=10, random_state=0)\n",
    "lr2.fit(X_train,Y_train)\n",
    "test_pred_proba2=lr2.predict_proba(X_test)[:,1]\n",
    "\n",
    "fpr, tpr, thresholds = roc_curve(Y_test, test_pred_proba2)\n",
    "\n",
    "plt.plot([0,1],[0,1], 'k--')\n",
    "plt.plot(fpr, tpr)\n",
    "plt.xlabel(\"False positive ratio\")\n",
    "plt.ylabel(\"True positive ratio\")\n",
    "plt.title(\"ROC Curve\")\n",
    "\n",
    "\n",
    "\n",
    "# c=1000 için;\n",
    "plt.figure(figsize=(10,3),dpi=100)\n",
    "plt.subplot(1,3,2)\n",
    "lr3=linear_model.LogisticRegression(C=1000, random_state=0)\n",
    "lr3.fit(X_train,Y_train)\n",
    "test_pred_proba3=lr2.predict_proba(X_test)[:,1]\n",
    "\n",
    "fpr, tpr, thresholds = roc_curve(Y_test, test_pred_proba3)\n",
    "\n",
    "plt.plot([0,1],[0,1], 'k--')\n",
    "plt.plot(fpr, tpr)\n",
    "plt.xlabel(\"False positive ratio\")\n",
    "plt.ylabel(\"True positive ratio\")\n",
    "plt.title(\"ROC Curve\");\n",
    "\n",
    "# c değeri büyüdükçe daha çok regularize ettiği için yani overfitliği daha çok kaldırdığı için ROC eğrisi altında kalan alan yani AUC artacaktır.\n",
    "\n",
    "# Regresyonda overfit modelleri regularize etmek için; Ridge(L2), Lasso(L1) ve ElasticNet(L1+L2) regresyonları kullanılarak alpha parametresi ile ceza katsayısı \n",
    "# verilir ve overfit özelliği azaltılmaya çalışılır.Lojistik regresyonda ise overfit özelliği azaltmak için C parametresi kullanılır."
   ]
  },
  {
   "cell_type": "markdown",
   "metadata": {},
   "source": [
    "## PRECISION/RECALL CURVE"
   ]
  },
  {
   "cell_type": "code",
   "execution_count": 66,
   "metadata": {},
   "outputs": [
    {
     "data": {
      "image/png": "[encoded data removed]",
      "text/plain": [
       "<Figure size 432x288 with 1 Axes>"
      ]
     },
     "metadata": {
      "needs_background": "light"
     },
     "output_type": "display_data"
    }
   ],
   "source": [
    "# Dengesiz datalarda kullanılmaktadır.\n",
    "\n",
    "precision, recall, thresholds = precision_recall_curve(Y_test, test_pred_proba)\n",
    "\n",
    "plt.plot(recall, precision);"
   ]
  }
 ],
 "metadata": {
  "kernelspec": {
   "display_name": "Python 3",
   "language": "python",
   "name": "python3"
  },
  "language_info": {
   "codemirror_mode": {
    "name": "ipython",
    "version": 3
   },
   "file_extension": ".py",
   "mimetype": "text/x-python",
   "name": "python",
   "nbconvert_exporter": "python",
   "pygments_lexer": "ipython3",
   "version": "3.7.3"
  }
 },
 "nbformat": 4,
 "nbformat_minor": 2
}
