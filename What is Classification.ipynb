{
 "cells": [
  {
   "cell_type": "markdown",
   "metadata": {},
   "source": [
    "# Soru 1:\n",
    "Determine whether the following examples are classification problems or regression problems:\n",
    "\n",
    "#### (1) Given the size of the house, estimating the price of it:"
   ]
  },
  {
   "cell_type": "markdown",
   "metadata": {},
   "source": [
    "Evin boyutlarına göre fiyatının tahmin edilmesi bir regresyon problemidir; çünkü iki sürekli değişkenin birbirine göre incelemesi söz konusudur. Evin boyutları X değişkeni/features, evin fiyatı ise Y değişkeni/target olacaktır."
   ]
  },
  {
   "cell_type": "markdown",
   "metadata": {},
   "source": [
    "#### (2) From the clothes of those who come to see the house, to conclude who has a high or low probability of buying the house,"
   ]
  },
  {
   "cell_type": "markdown",
   "metadata": {},
   "source": [
    "Bu bir classification problemidir; çünkü evi görmeye gelen müşterileri kıyafetlerine göre sınıflandırmamız gerekecektir ve bu sınıflandırmaya göre evi satın alma olasılığını tahmin edeceğiz. Örneğin; evi görmeye gelen müşterilerden spor giyinenlerin yüksek olasılıkla evi satın aldığı görülmüştür gibi yorum yapabiliriz model sonucunda."
   ]
  },
  {
   "cell_type": "markdown",
   "metadata": {},
   "source": [
    "#### (3) Using parameters such as location and date, calculate the probability of rain,"
   ]
  },
  {
   "cell_type": "markdown",
   "metadata": {},
   "source": [
    "Classification problemidir; çünkü lokasyona göre yağmur olasılığını hesaplayabilmek için bölgeleri gruplamamız gerekecektir aynı şekilde tarihlere göre de gruplama yaparak belirli durumlar için olasılık tahmini yapmamız gerekmektedir."
   ]
  },
  {
   "cell_type": "markdown",
   "metadata": {},
   "source": [
    "#### (4) Estimating a one's salary using parameters such as education and experience,"
   ]
  },
  {
   "cell_type": "markdown",
   "metadata": {},
   "source": [
    "Aynı şekilde classification problemidir; çünkü hem eğitim seviyesi hem de deneyim kategorik değişkenlerdir. Öncelikle eğitim ve deneyime göre gruplama yapmamız ve bu her bir grup için maaş durumları sınıfları oluşturmamız gerekmektedir."
   ]
  },
  {
   "cell_type": "markdown",
   "metadata": {},
   "source": [
    "#### (5) Estimation one's age"
   ]
  },
  {
   "cell_type": "markdown",
   "metadata": {},
   "source": [
    "Classification problemidir; çünkü bir kişinin yaşı belirli aralıktaki tamsayılar olduğu için sürekli değişken değildir.Ayrıca, yaşın tahmininde kullanılacak özellikler yıl ay ve gün olabilir. Bu özelliklere göre gruplama yapılarak yaş tahmin edilebilir."
   ]
  },
  {
   "cell_type": "markdown",
   "metadata": {},
   "source": [
    "#### (6) Estimation one's income"
   ]
  },
  {
   "cell_type": "markdown",
   "metadata": {},
   "source": [
    "Regresyon problemidir; çünkü sürekli değişkendir. Gelirin hesaplanmasında  deneyim, bölüm, yüksek lisans olup olmaması, title gibi özellikler olabilir ve bu kategorik özelliklere göre gruplama yapılarak tahmin edilebilir."
   ]
  },
  {
   "cell_type": "markdown",
   "metadata": {},
   "source": [
    "#### (7) Estimate the direction of price of any stock."
   ]
  },
  {
   "cell_type": "markdown",
   "metadata": {},
   "source": [
    "Hisse senedinin  fiyat yönü düşük orta ve yüksek gibi sınıflandırılabilir ve fiyatın bu 3 sınıftan bir aralığa girmesiyle tahmin edilebilir; dolayıısyla classification problemidir."
   ]
  }
 ],
 "metadata": {
  "kernelspec": {
   "display_name": "Python 3",
   "language": "python",
   "name": "python3"
  },
  "language_info": {
   "codemirror_mode": {
    "name": "ipython",
    "version": 3
   },
   "file_extension": ".py",
   "mimetype": "text/x-python",
   "name": "python",
   "nbconvert_exporter": "python",
   "pygments_lexer": "ipython3",
   "version": "3.7.3"
  }
 },
 "nbformat": 4,
 "nbformat_minor": 2
}
