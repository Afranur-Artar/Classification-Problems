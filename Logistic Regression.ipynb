{
 "cells": [
  {
   "cell_type": "markdown",
   "metadata": {},
   "source": [
    "# Soru 1:\n",
    "In this assignment, you are going to use your model to predict survival of the Titanic disaster. For this assignment, send a link to a Jupyter notebook containing solutions to the following tasks.\n",
    "* Download Titanic data from Kaggle. The data in the train.csv file meets your need.\n",
    "* Split your data into training and test sets.\n",
    "* Predict the survival based on the test data you split by creating your model.\n",
    "* Is your model's performance satisfactory? Explain.\n",
    "* Try to improve your model's performance by adding or subtracting some variables."
   ]
  },
  {
   "cell_type": "code",
   "execution_count": 7,
   "metadata": {},
   "outputs": [],
   "source": [
    "import pandas as pd\n",
    "import numpy as np\n",
    "import matplotlib.pyplot as plt\n",
    "import seaborn as sns\n",
    "from sklearn.linear_model import LinearRegression\n",
    "from sklearn import linear_model\n",
    "from sklearn.model_selection import train_test_split\n",
    "from sklearn.linear_model import LogisticRegression\n",
    "import statsmodels.api as sm\n",
    "import warnings\n",
    "warnings.filterwarnings(\"ignore\")"
   ]
  },
  {
   "cell_type": "code",
   "execution_count": 2,
   "metadata": {},
   "outputs": [
    {
     "data": {
      "text/html": [
       "<div>\n",
       "<style scoped>\n",
       "    .dataframe tbody tr th:only-of-type {\n",
       "        vertical-align: middle;\n",
       "    }\n",
       "\n",
       "    .dataframe tbody tr th {\n",
       "        vertical-align: top;\n",
       "    }\n",
       "\n",
       "    .dataframe thead th {\n",
       "        text-align: right;\n",
       "    }\n",
       "</style>\n",
       "<table border=\"1\" class=\"dataframe\">\n",
       "  <thead>\n",
       "    <tr style=\"text-align: right;\">\n",
       "      <th></th>\n",
       "      <th>PassengerId</th>\n",
       "      <th>Survived</th>\n",
       "      <th>Pclass</th>\n",
       "      <th>Name</th>\n",
       "      <th>Sex</th>\n",
       "      <th>Age</th>\n",
       "      <th>SibSp</th>\n",
       "      <th>Parch</th>\n",
       "      <th>Ticket</th>\n",
       "      <th>Fare</th>\n",
       "      <th>Cabin</th>\n",
       "      <th>Embarked</th>\n",
       "    </tr>\n",
       "  </thead>\n",
       "  <tbody>\n",
       "    <tr>\n",
       "      <th>0</th>\n",
       "      <td>1</td>\n",
       "      <td>0</td>\n",
       "      <td>3</td>\n",
       "      <td>Braund, Mr. Owen Harris</td>\n",
       "      <td>male</td>\n",
       "      <td>22.0</td>\n",
       "      <td>1</td>\n",
       "      <td>0</td>\n",
       "      <td>A/5 21171</td>\n",
       "      <td>7.2500</td>\n",
       "      <td>NaN</td>\n",
       "      <td>S</td>\n",
       "    </tr>\n",
       "    <tr>\n",
       "      <th>1</th>\n",
       "      <td>2</td>\n",
       "      <td>1</td>\n",
       "      <td>1</td>\n",
       "      <td>Cumings, Mrs. John Bradley (Florence Briggs Th...</td>\n",
       "      <td>female</td>\n",
       "      <td>38.0</td>\n",
       "      <td>1</td>\n",
       "      <td>0</td>\n",
       "      <td>PC 17599</td>\n",
       "      <td>71.2833</td>\n",
       "      <td>C85</td>\n",
       "      <td>C</td>\n",
       "    </tr>\n",
       "  </tbody>\n",
       "</table>\n",
       "</div>"
      ],
      "text/plain": [
       "   PassengerId  Survived  Pclass  \\\n",
       "0            1         0       3   \n",
       "1            2         1       1   \n",
       "\n",
       "                                                Name     Sex   Age  SibSp  \\\n",
       "0                            Braund, Mr. Owen Harris    male  22.0      1   \n",
       "1  Cumings, Mrs. John Bradley (Florence Briggs Th...  female  38.0      1   \n",
       "\n",
       "   Parch     Ticket     Fare Cabin Embarked  \n",
       "0      0  A/5 21171   7.2500   NaN        S  \n",
       "1      0   PC 17599  71.2833   C85        C  "
      ]
     },
     "execution_count": 2,
     "metadata": {},
     "output_type": "execute_result"
    }
   ],
   "source": [
    "df=pd.read_csv(\"titanic.csv\")\n",
    "df.head(2)"
   ]
  },
  {
   "cell_type": "code",
   "execution_count": 3,
   "metadata": {},
   "outputs": [],
   "source": [
    "df[\"Cabin\"].fillna(df[\"Cabin\"].mode()[0], inplace=True)\n",
    "df[\"Embarked\"].fillna(df[\"Embarked\"].mode()[0], inplace=True)\n",
    "df[\"Age\"]=df.groupby([\"Sex\"])[\"Age\"].apply(lambda x: x.fillna(x.mode()[0]))"
   ]
  },
  {
   "cell_type": "code",
   "execution_count": null,
   "metadata": {},
   "outputs": [],
   "source": [
    "# Hedef değişken \"Survived\" kolonudur ve öncelikle özellik olarak kullanacağım kategorik değişkenleri numerik değişkene dönüştürmeliyiz."
   ]
  },
  {
   "cell_type": "code",
   "execution_count": 4,
   "metadata": {},
   "outputs": [],
   "source": [
    "pd.options.display.max_columns\n",
    "pd.set_option(\"display.max_columns\",None)"
   ]
  },
  {
   "cell_type": "code",
   "execution_count": 4,
   "metadata": {},
   "outputs": [],
   "source": [
    "df[\"is_male\"]=pd.get_dummies(df.Sex, drop_first=True)"
   ]
  },
  {
   "cell_type": "code",
   "execution_count": 5,
   "metadata": {},
   "outputs": [],
   "source": [
    "embarked_dummy=pd.get_dummies(df.Embarked, drop_first=False)\n",
    "\n",
    "df=pd.concat([df,embarked_dummy], axis=1)"
   ]
  },
  {
   "cell_type": "code",
   "execution_count": 6,
   "metadata": {},
   "outputs": [
    {
     "data": {
      "text/html": [
       "<div>\n",
       "<style scoped>\n",
       "    .dataframe tbody tr th:only-of-type {\n",
       "        vertical-align: middle;\n",
       "    }\n",
       "\n",
       "    .dataframe tbody tr th {\n",
       "        vertical-align: top;\n",
       "    }\n",
       "\n",
       "    .dataframe thead th {\n",
       "        text-align: right;\n",
       "    }\n",
       "</style>\n",
       "<table border=\"1\" class=\"dataframe\">\n",
       "  <thead>\n",
       "    <tr style=\"text-align: right;\">\n",
       "      <th></th>\n",
       "      <th>PassengerId</th>\n",
       "      <th>Survived</th>\n",
       "      <th>Pclass</th>\n",
       "      <th>Name</th>\n",
       "      <th>Sex</th>\n",
       "      <th>Age</th>\n",
       "      <th>SibSp</th>\n",
       "      <th>Parch</th>\n",
       "      <th>Ticket</th>\n",
       "      <th>Fare</th>\n",
       "      <th>Cabin</th>\n",
       "      <th>Embarked</th>\n",
       "      <th>is_male</th>\n",
       "      <th>C</th>\n",
       "      <th>Q</th>\n",
       "      <th>S</th>\n",
       "    </tr>\n",
       "  </thead>\n",
       "  <tbody>\n",
       "    <tr>\n",
       "      <th>0</th>\n",
       "      <td>1</td>\n",
       "      <td>0</td>\n",
       "      <td>3</td>\n",
       "      <td>Braund, Mr. Owen Harris</td>\n",
       "      <td>male</td>\n",
       "      <td>22.0</td>\n",
       "      <td>1</td>\n",
       "      <td>0</td>\n",
       "      <td>A/5 21171</td>\n",
       "      <td>7.2500</td>\n",
       "      <td>B96 B98</td>\n",
       "      <td>S</td>\n",
       "      <td>1</td>\n",
       "      <td>0</td>\n",
       "      <td>0</td>\n",
       "      <td>1</td>\n",
       "    </tr>\n",
       "    <tr>\n",
       "      <th>1</th>\n",
       "      <td>2</td>\n",
       "      <td>1</td>\n",
       "      <td>1</td>\n",
       "      <td>Cumings, Mrs. John Bradley (Florence Briggs Th...</td>\n",
       "      <td>female</td>\n",
       "      <td>38.0</td>\n",
       "      <td>1</td>\n",
       "      <td>0</td>\n",
       "      <td>PC 17599</td>\n",
       "      <td>71.2833</td>\n",
       "      <td>C85</td>\n",
       "      <td>C</td>\n",
       "      <td>0</td>\n",
       "      <td>1</td>\n",
       "      <td>0</td>\n",
       "      <td>0</td>\n",
       "    </tr>\n",
       "    <tr>\n",
       "      <th>2</th>\n",
       "      <td>3</td>\n",
       "      <td>1</td>\n",
       "      <td>3</td>\n",
       "      <td>Heikkinen, Miss. Laina</td>\n",
       "      <td>female</td>\n",
       "      <td>26.0</td>\n",
       "      <td>0</td>\n",
       "      <td>0</td>\n",
       "      <td>STON/O2. 3101282</td>\n",
       "      <td>7.9250</td>\n",
       "      <td>B96 B98</td>\n",
       "      <td>S</td>\n",
       "      <td>0</td>\n",
       "      <td>0</td>\n",
       "      <td>0</td>\n",
       "      <td>1</td>\n",
       "    </tr>\n",
       "  </tbody>\n",
       "</table>\n",
       "</div>"
      ],
      "text/plain": [
       "   PassengerId  Survived  Pclass  \\\n",
       "0            1         0       3   \n",
       "1            2         1       1   \n",
       "2            3         1       3   \n",
       "\n",
       "                                                Name     Sex   Age  SibSp  \\\n",
       "0                            Braund, Mr. Owen Harris    male  22.0      1   \n",
       "1  Cumings, Mrs. John Bradley (Florence Briggs Th...  female  38.0      1   \n",
       "2                             Heikkinen, Miss. Laina  female  26.0      0   \n",
       "\n",
       "   Parch            Ticket     Fare    Cabin Embarked  is_male  C  Q  S  \n",
       "0      0         A/5 21171   7.2500  B96 B98        S        1  0  0  1  \n",
       "1      0          PC 17599  71.2833      C85        C        0  1  0  0  \n",
       "2      0  STON/O2. 3101282   7.9250  B96 B98        S        0  0  0  1  "
      ]
     },
     "execution_count": 6,
     "metadata": {},
     "output_type": "execute_result"
    }
   ],
   "source": [
    "df.head(3)"
   ]
  },
  {
   "cell_type": "code",
   "execution_count": 127,
   "metadata": {},
   "outputs": [],
   "source": [
    "Y=df[\"Survived\"]\n",
    "X=df[[\"is_male\", \"Pclass\", \"Age\"]]"
   ]
  },
  {
   "cell_type": "code",
   "execution_count": 128,
   "metadata": {},
   "outputs": [],
   "source": [
    "X_train, X_test, Y_train, Y_test =train_test_split(X,Y, test_size=0.20, random_state=465)"
   ]
  },
  {
   "cell_type": "code",
   "execution_count": 130,
   "metadata": {},
   "outputs": [
    {
     "name": "stdout",
     "output_type": "stream",
     "text": [
      "R-squared train set 0.7991573033707865\n",
      "R-squared test set 0.7877094972067039\n"
     ]
    }
   ],
   "source": [
    "log_reg=linear_model.LogisticRegression()\n",
    "log_reg.fit(X_train,Y_train)\n",
    "\n",
    "y_test_pred=log_reg.predict(X_test)\n",
    "\n",
    "print(\"R-squared train set\", log_reg.score(X_train,Y_train))\n",
    "print(\"R-squared test set\", log_reg.score(X_test,Y_test))"
   ]
  },
  {
   "cell_type": "markdown",
   "metadata": {},
   "source": [
    "Modelin R-squared değeri yaklaşık % 80 oranında hedef değişkenin varyansını açıklamaktadır yani uygunluğu yüksektir diyebiliriz. Ayrıca, train ve test dataları arasındaki R-squared değerleri birbirine yakın olduğu için genelleme açığı düşüktür diyebiliriz. Uygunluğu arttırabilmek için parametreleri değiştirerek tekrar modeli kuralım:"
   ]
  },
  {
   "cell_type": "code",
   "execution_count": 67,
   "metadata": {},
   "outputs": [
    {
     "name": "stdout",
     "output_type": "stream",
     "text": [
      "[1]\n"
     ]
    }
   ],
   "source": [
    "predictions=np.array([0,3,40]).reshape(1,-1)\n",
    "print(log_reg.predict(predictions))"
   ]
  },
  {
   "cell_type": "markdown",
   "metadata": {},
   "source": [
    "Yukarıdaki tahmini yorumlarsam; is_male, Pclass, Age özelliklerine sırayla(0,3,40) değerlerini girdim ve çıkan sonuç 1'dir yani kişi hayatta kalır. Diğer bir ifadeyle, 40 yaşında 3. sınıfta seyahat eden  bir kadın hayatta kalır diyebiliriz."
   ]
  },
  {
   "cell_type": "code",
   "execution_count": 73,
   "metadata": {},
   "outputs": [
    {
     "name": "stdout",
     "output_type": "stream",
     "text": [
      "Multinomial train R-squared: 0.7865168539325843\n",
      "Multinomial test R-squared: 0.7865168539325843\n"
     ]
    }
   ],
   "source": [
    "log_reg_multinomial=LogisticRegression(multi_class='multinomial', solver=\"lbfgs\")\n",
    "\n",
    "log_reg_multinomial.fit(X_train, Y_train)\n",
    "\n",
    "print(\"Multinomial train R-squared:\", log_reg_multinomial.score(X_train,Y_train))\n",
    "print(\"Multinomial test R-squared:\", log_reg_multinomial.score(X_train,Y_train))"
   ]
  },
  {
   "cell_type": "markdown",
   "metadata": {},
   "source": [
    "Lojistik regresyonda default olarak kullanılan one vs. rest yönteminde train ve test'in uygunluğu birbirine çok yakın çıkmıştır ancak uygunluğu arttırmayı denemek için multinomial yöntemi ile hesaplama yapmayı denedim. Bu yöntemin sonucunda test in R-squared değeri biraz artıp train in R-squared değeri biraz azalarak eşitliğe gelmiştir."
   ]
  },
  {
   "cell_type": "code",
   "execution_count": 74,
   "metadata": {},
   "outputs": [],
   "source": [
    "# Farklı özellikler kullanarak tekrar logistic regresyon modeli kuralım:"
   ]
  },
  {
   "cell_type": "code",
   "execution_count": 80,
   "metadata": {},
   "outputs": [],
   "source": [
    "Y2=df[\"Survived\"]\n",
    "X2=df[[\"is_male\",\"C\",\"Q\",\"S\",\"Parch\"]]"
   ]
  },
  {
   "cell_type": "code",
   "execution_count": 81,
   "metadata": {},
   "outputs": [],
   "source": [
    "X2_train, X2_test, Y2_train, Y2_test =train_test_split(X2, Y2, test_size=0.20, random_state=465)"
   ]
  },
  {
   "cell_type": "code",
   "execution_count": 90,
   "metadata": {},
   "outputs": [
    {
     "name": "stdout",
     "output_type": "stream",
     "text": [
      "0.7865168539325843\n",
      "0.7932960893854749\n"
     ]
    }
   ],
   "source": [
    "log_reg_2=linear_model.LogisticRegression()\n",
    "log_reg_2.fit(X2_train,Y2_train)\n",
    "\n",
    "print(log_reg_2.score(X2_train,Y2_train))\n",
    "print(log_reg_2.score(X2_test,Y2_test))"
   ]
  },
  {
   "cell_type": "code",
   "execution_count": 104,
   "metadata": {},
   "outputs": [
    {
     "name": "stdout",
     "output_type": "stream",
     "text": [
      "[1]\n"
     ]
    }
   ],
   "source": [
    "y2_test_pred=log_reg_2.predict(X2_test)\n",
    "\n",
    "prediction2=np.array([0,0,1,0,4]).reshape(1,-1)\n",
    "print(log_reg_2.predict(prediction2))"
   ]
  },
  {
   "cell_type": "markdown",
   "metadata": {},
   "source": [
    "Bir önceki modelin özellikleriyle logistic regresyon modelinin test kümesinin R-squared değeri 0.782 iken; yeni özelliklerle R-squared değeri 0.793 olmuştur; yani modelin uygunluğu biraz artmıştır diyebiliriz."
   ]
  },
  {
   "cell_type": "code",
   "execution_count": 107,
   "metadata": {},
   "outputs": [],
   "source": [
    "Y3=df[\"Survived\"]\n",
    "X3=df[[\"Parch\",\"Pclass\"]]"
   ]
  },
  {
   "cell_type": "code",
   "execution_count": 108,
   "metadata": {},
   "outputs": [],
   "source": [
    "X3_train, X3_test, Y3_train, Y3_test =train_test_split(X3,Y3, test_size=0.2, random_state=465)"
   ]
  },
  {
   "cell_type": "code",
   "execution_count": 109,
   "metadata": {},
   "outputs": [
    {
     "name": "stdout",
     "output_type": "stream",
     "text": [
      "Train R-squared 0.6797752808988764\n",
      "Test R-squared 0.7039106145251397\n"
     ]
    }
   ],
   "source": [
    "log_reg3=linear_model.LogisticRegression()\n",
    "log_reg3.fit(X3_train,Y3_train)\n",
    "\n",
    "print(\"Train R-squared\", log_reg3.score(X3_train,Y3_train))\n",
    "print(\"Test R-squared\", log_reg3.score(X3_test,Y3_test))"
   ]
  },
  {
   "cell_type": "markdown",
   "metadata": {},
   "source": [
    "Parch ve Pclass özellikleriyle lojistik regresyon sonucunun doğruluğu düşmüştür."
   ]
  },
  {
   "cell_type": "code",
   "execution_count": 116,
   "metadata": {},
   "outputs": [],
   "source": [
    "Y4=df[\"Survived\"]\n",
    "X4=df[[\"Pclass\",\"is_male\",\"Age\",\"C\",\"Q\",\"S\"]]"
   ]
  },
  {
   "cell_type": "code",
   "execution_count": 125,
   "metadata": {},
   "outputs": [],
   "source": [
    "X4_train,X4_test,Y4_train,Y4_test= train_test_split(X4,Y4, test_size=0.2, random_state=400)"
   ]
  },
  {
   "cell_type": "code",
   "execution_count": 131,
   "metadata": {},
   "outputs": [
    {
     "name": "stdout",
     "output_type": "stream",
     "text": [
      "0.35552969052224703\n",
      "0.4964597636104275\n"
     ]
    }
   ],
   "source": [
    "log_reg4=linear_model.LinearRegression()\n",
    "\n",
    "log_reg4.fit(X4_train,Y4_train)\n",
    "y4_test_pred=log_reg4.predict(X4_test)\n",
    "\n",
    "print(log_reg4.score(X4_train,Y4_train))\n",
    "print(log_reg4.score(X4_test,Y4_test))"
   ]
  },
  {
   "cell_type": "markdown",
   "metadata": {},
   "source": [
    "\"Pclass\",\"is_male\",\"Age\",\"C\",\"Q\",\"S\" özellikleri için modelin doğruluğu düşmüştür."
   ]
  }
 ],
 "metadata": {
  "kernelspec": {
   "display_name": "Python 3",
   "language": "python",
   "name": "python3"
  },
  "language_info": {
   "codemirror_mode": {
    "name": "ipython",
    "version": 3
   },
   "file_extension": ".py",
   "mimetype": "text/x-python",
   "name": "python",
   "nbconvert_exporter": "python",
   "pygments_lexer": "ipython3",
   "version": "3.7.3"
  }
 },
 "nbformat": 4,
 "nbformat_minor": 2
}
