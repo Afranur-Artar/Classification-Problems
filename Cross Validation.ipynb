{
 "cells": [
  {
   "cell_type": "code",
   "execution_count": 1,
   "metadata": {},
   "outputs": [],
   "source": [
    "import pandas as pd\n",
    "import numpy as np\n",
    "import matplotlib.pyplot as plt\n",
    "import seaborn as sns\n",
    "from sklearn.model_selection import train_test_split\n",
    "from sklearn.datasets import load_breast_cancer\n",
    "from sklearn.linear_model import LogisticRegression\n",
    "from sklearn.metrics import classification_report,confusion_matrix\n",
    "from sklearn import linear_model\n",
    "import warnings\n",
    "warnings.filterwarnings(\"ignore\")"
   ]
  },
  {
   "cell_type": "markdown",
   "metadata": {},
   "source": [
    "# Soru 1:\n",
    "In this assignment, you are going to measure the performance of the model you created with the Titanic dataset in the previous lesson. To complete this assignment, send a link to a Jupyter notebook containing solutions to the following tasks.\n",
    "\n",
    "* Evaluate your model's performance with cross validation and using different metrics.\n",
    "* Determine the model with the most appropriate parameters by hyperparameter tuning."
   ]
  },
  {
   "cell_type": "code",
   "execution_count": 2,
   "metadata": {},
   "outputs": [
    {
     "data": {
      "text/html": [
       "<div>\n",
       "<style scoped>\n",
       "    .dataframe tbody tr th:only-of-type {\n",
       "        vertical-align: middle;\n",
       "    }\n",
       "\n",
       "    .dataframe tbody tr th {\n",
       "        vertical-align: top;\n",
       "    }\n",
       "\n",
       "    .dataframe thead th {\n",
       "        text-align: right;\n",
       "    }\n",
       "</style>\n",
       "<table border=\"1\" class=\"dataframe\">\n",
       "  <thead>\n",
       "    <tr style=\"text-align: right;\">\n",
       "      <th></th>\n",
       "      <th>PassengerId</th>\n",
       "      <th>Survived</th>\n",
       "      <th>Pclass</th>\n",
       "      <th>Name</th>\n",
       "      <th>Sex</th>\n",
       "      <th>Age</th>\n",
       "      <th>SibSp</th>\n",
       "      <th>Parch</th>\n",
       "      <th>Ticket</th>\n",
       "      <th>Fare</th>\n",
       "      <th>Cabin</th>\n",
       "      <th>Embarked</th>\n",
       "    </tr>\n",
       "  </thead>\n",
       "  <tbody>\n",
       "    <tr>\n",
       "      <th>0</th>\n",
       "      <td>1</td>\n",
       "      <td>0</td>\n",
       "      <td>3</td>\n",
       "      <td>Braund, Mr. Owen Harris</td>\n",
       "      <td>male</td>\n",
       "      <td>22.0</td>\n",
       "      <td>1</td>\n",
       "      <td>0</td>\n",
       "      <td>A/5 21171</td>\n",
       "      <td>7.2500</td>\n",
       "      <td>NaN</td>\n",
       "      <td>S</td>\n",
       "    </tr>\n",
       "    <tr>\n",
       "      <th>1</th>\n",
       "      <td>2</td>\n",
       "      <td>1</td>\n",
       "      <td>1</td>\n",
       "      <td>Cumings, Mrs. John Bradley (Florence Briggs Th...</td>\n",
       "      <td>female</td>\n",
       "      <td>38.0</td>\n",
       "      <td>1</td>\n",
       "      <td>0</td>\n",
       "      <td>PC 17599</td>\n",
       "      <td>71.2833</td>\n",
       "      <td>C85</td>\n",
       "      <td>C</td>\n",
       "    </tr>\n",
       "    <tr>\n",
       "      <th>2</th>\n",
       "      <td>3</td>\n",
       "      <td>1</td>\n",
       "      <td>3</td>\n",
       "      <td>Heikkinen, Miss. Laina</td>\n",
       "      <td>female</td>\n",
       "      <td>26.0</td>\n",
       "      <td>0</td>\n",
       "      <td>0</td>\n",
       "      <td>STON/O2. 3101282</td>\n",
       "      <td>7.9250</td>\n",
       "      <td>NaN</td>\n",
       "      <td>S</td>\n",
       "    </tr>\n",
       "  </tbody>\n",
       "</table>\n",
       "</div>"
      ],
      "text/plain": [
       "   PassengerId  Survived  Pclass  \\\n",
       "0            1         0       3   \n",
       "1            2         1       1   \n",
       "2            3         1       3   \n",
       "\n",
       "                                                Name     Sex   Age  SibSp  \\\n",
       "0                            Braund, Mr. Owen Harris    male  22.0      1   \n",
       "1  Cumings, Mrs. John Bradley (Florence Briggs Th...  female  38.0      1   \n",
       "2                             Heikkinen, Miss. Laina  female  26.0      0   \n",
       "\n",
       "   Parch            Ticket     Fare Cabin Embarked  \n",
       "0      0         A/5 21171   7.2500   NaN        S  \n",
       "1      0          PC 17599  71.2833   C85        C  \n",
       "2      0  STON/O2. 3101282   7.9250   NaN        S  "
      ]
     },
     "execution_count": 2,
     "metadata": {},
     "output_type": "execute_result"
    }
   ],
   "source": [
    "df=pd.read_csv(\"titanic.csv\")\n",
    "df.head(3)"
   ]
  },
  {
   "cell_type": "code",
   "execution_count": 3,
   "metadata": {},
   "outputs": [
    {
     "data": {
      "text/plain": [
       "PassengerId      0\n",
       "Survived         0\n",
       "Pclass           0\n",
       "Name             0\n",
       "Sex              0\n",
       "Age            177\n",
       "SibSp            0\n",
       "Parch            0\n",
       "Ticket           0\n",
       "Fare             0\n",
       "Cabin          687\n",
       "Embarked         2\n",
       "dtype: int64"
      ]
     },
     "execution_count": 3,
     "metadata": {},
     "output_type": "execute_result"
    }
   ],
   "source": [
    "df.isnull().sum()"
   ]
  },
  {
   "cell_type": "code",
   "execution_count": 4,
   "metadata": {},
   "outputs": [],
   "source": [
    "df[\"Age\"]=df.groupby(df[\"Sex\"])[\"Age\"].apply(lambda x : x.fillna(x.mode()[0]))\n",
    "df.Embarked.fillna(df[\"Embarked\"].mode()[0], inplace=True)\n",
    "df.Cabin.fillna(df[\"Cabin\"].mode()[0], inplace=True)"
   ]
  },
  {
   "cell_type": "code",
   "execution_count": 5,
   "metadata": {},
   "outputs": [],
   "source": [
    "df[\"Embarked\"]=pd.get_dummies(df[\"Embarked\"], drop_first=True)"
   ]
  },
  {
   "cell_type": "code",
   "execution_count": 7,
   "metadata": {},
   "outputs": [],
   "source": [
    "df[\"Sex\"]=pd.get_dummies(df[\"Sex\"], drop_first=True)"
   ]
  },
  {
   "cell_type": "markdown",
   "metadata": {},
   "source": [
    "### Cross Validation"
   ]
  },
  {
   "cell_type": "code",
   "execution_count": 8,
   "metadata": {},
   "outputs": [],
   "source": [
    "Y=df[\"Survived\"]\n",
    "X=df[[\"Age\", \"Sex\", \"Pclass\"]]"
   ]
  },
  {
   "cell_type": "code",
   "execution_count": 9,
   "metadata": {},
   "outputs": [],
   "source": [
    "X_train, X_test, Y_train, Y_test = train_test_split(X, Y, test_size=0.20, random_state=465)\n",
    "\n",
    "# stratify parametresi test ve train kümesindeki verilerin eşit dağılımını sağlar."
   ]
  },
  {
   "cell_type": "code",
   "execution_count": 10,
   "metadata": {},
   "outputs": [
    {
     "name": "stdout",
     "output_type": "stream",
     "text": [
      "Rate of train set: %79.91\n",
      "Rate of test set: %20.09\n",
      "Percent of 0 in Y_train set: %60.96\n",
      "Percent of 0 in all Y set: %61.62\n",
      "Pervent of 0 in Y_test set: %64.25 \n",
      "\n",
      "Length of X_train: 712\n",
      "Length of X_test: 179\n",
      "Length of Y_train: 712\n",
      "Length of Y_test: 179 \n",
      "\n",
      "Length of X: 891\n",
      "Length of Y: 891\n"
     ]
    }
   ],
   "source": [
    "print(\"Rate of train set: %{:.2f}\". format(len(X_train)/len(X)*100))\n",
    "print(\"Rate of test set: %{:.2f}\". format(len(X_test)/len(X)*100))\n",
    "print(\"Percent of 0 in Y_train set: %{:.2f}\". format(len(Y_train[Y_train==0])/len(Y_train)*100))\n",
    "print(\"Percent of 0 in all Y set: %{:.2f}\". format(len(Y[Y==0])/len(Y)*100))\n",
    "print(\"Pervent of 0 in Y_test set: %{:.2f}\". format(len(Y_test[Y_test==0])/len(Y_test)*100),\"\\n\")\n",
    "\n",
    "print(\"Length of X_train:\", len(X_train))\n",
    "print(\"Length of X_test:\", len(X_test))\n",
    "print(\"Length of Y_train:\", len(Y_train))\n",
    "print(\"Length of Y_test:\", len(Y_test),\"\\n\")\n",
    "\n",
    "print(\"Length of X:\", len(X))\n",
    "print(\"Length of Y:\", len(Y))"
   ]
  },
  {
   "cell_type": "code",
   "execution_count": 10,
   "metadata": {},
   "outputs": [
    {
     "data": {
      "image/png": "[encoded data removed]",
      "text/plain": [
       "<Figure size 1200x300 with 3 Axes>"
      ]
     },
     "metadata": {
      "needs_background": "light"
     },
     "output_type": "display_data"
    }
   ],
   "source": [
    "plt.figure(figsize=(12,3), dpi=100)\n",
    "plt.subplot(1,3,1)\n",
    "sns.countplot(Y, palette=\"Greens\")\n",
    "\n",
    "plt.subplot(1,3,2)\n",
    "sns.countplot(Y_train, palette=\"Greens\")\n",
    "\n",
    "plt.subplot(1,3,3)\n",
    "sns.countplot(Y_test, palette=\"Greens\");"
   ]
  },
  {
   "cell_type": "code",
   "execution_count": 11,
   "metadata": {},
   "outputs": [
    {
     "data": {
      "text/plain": [
       "0.7865168539325843"
      ]
     },
     "execution_count": 11,
     "metadata": {},
     "output_type": "execute_result"
    }
   ],
   "source": [
    "log_reg=LogisticRegression()\n",
    "log_reg.fit(X_train, Y_train)\n",
    "\n",
    "y_train_predict=log_reg.predict(X_train)\n",
    "y_test_predict=log_reg.predict(X_test)\n",
    "log_reg.score(X_train, Y_train)"
   ]
  },
  {
   "cell_type": "markdown",
   "metadata": {},
   "source": [
    "#### 1) K-Fold Cross Validation"
   ]
  },
  {
   "cell_type": "code",
   "execution_count": 12,
   "metadata": {},
   "outputs": [],
   "source": [
    "from sklearn.model_selection import KFold\n",
    "\n",
    "kf=KFold(n_splits=5, shuffle=True, random_state=1111)"
   ]
  },
  {
   "cell_type": "code",
   "execution_count": 13,
   "metadata": {},
   "outputs": [
    {
     "name": "stdout",
     "output_type": "stream",
     "text": [
      "1. index & train set size: 712\n",
      "1. index & test set size: 179 \n",
      "\n",
      "2. index & train set size: 713\n",
      "2. index & test set size: 178 \n",
      "\n",
      "3. index & train set size: 713\n",
      "3. index & test set size: 178 \n",
      "\n",
      "4. index & train set size: 713\n",
      "4. index & test set size: 178 \n",
      "\n",
      "5. index & train set size: 713\n",
      "5. index & test set size: 178 \n",
      "\n"
     ]
    }
   ],
   "source": [
    "pieces=kf.split(X)\n",
    "\n",
    "for i, (train_index, test_index) in enumerate(pieces):\n",
    "    print(\"{}. index & train set size: {}\".format(i+1,len(train_index)))\n",
    "    print(\"{}. index & test set size: {}\". format(i+1,len(test_index)),\"\\n\")"
   ]
  },
  {
   "cell_type": "code",
   "execution_count": 66,
   "metadata": {},
   "outputs": [
    {
     "name": "stdout",
     "output_type": "stream",
     "text": [
      "Train score:\n",
      "[0.78651685 0.78428928 0.79052369 0.77930175 0.78179551 0.78553616\n",
      " 0.78927681 0.78802993 0.78179551 0.78428928]\n",
      "\n",
      " Test score: [0.78888889 0.79775281 0.73033708 0.83146067 0.80898876 0.7752809\n",
      " 0.75280899 0.75280899 0.79775281 0.78651685]\n"
     ]
    }
   ],
   "source": [
    "from sklearn.model_selection import cross_val_score, cross_validate\n",
    "\n",
    "# Her bir split için modelin doğruluğunu cross_validate() ile buluruz.\n",
    "\n",
    "log_reg_model=LogisticRegression()\n",
    "\n",
    "cv=cross_validate(estimator=log_reg_model, X=X, y=Y, cv=10, \n",
    "                  return_train_score=True)\n",
    "\n",
    "print(\"Train score:\", cv[\"train_score\"], sep=\"\\n\")\n",
    "print(\"\\n\",\"Test score:\", cv[\"test_score\"])"
   ]
  },
  {
   "cell_type": "code",
   "execution_count": 67,
   "metadata": {},
   "outputs": [
    {
     "name": "stdout",
     "output_type": "stream",
     "text": [
      "Mean of train scores: 0.7851\n",
      "Mean of test scores: 0.7823\n"
     ]
    }
   ],
   "source": [
    "print(\"Mean of train scores: {:.4f}\". format(cv['train_score'].mean()))\n",
    "print(\"Mean of test scores: {:.4f}\". format(cv['test_score'].mean()))\n"
   ]
  },
  {
   "cell_type": "code",
   "execution_count": 65,
   "metadata": {},
   "outputs": [
    {
     "name": "stdout",
     "output_type": "stream",
     "text": [
      "Train set mean accuracy:  0.7851354759169492\n",
      "Train set mean precision: 0.7248702865068216\n",
      "Train set mean r2:        0.0915059328731538 \n",
      "\n",
      "Test set mean accuracy:   0.7822596754057428\n",
      "Test set mean precision:  0.7183165599897553\n",
      "Test set mean r2:         0.07923803864980332\n"
     ]
    }
   ],
   "source": [
    "cv=cross_validate(estimator=log_reg_model, X=X, y=Y, cv=10,\n",
    "                 return_train_score=True, scoring=[\"accuracy\",\"precision\",\"r2\"])\n",
    "\n",
    "print(\"Train set mean accuracy:  {}\". format(cv['train_accuracy'].mean()))\n",
    "print(\"Train set mean precision: {}\". format(cv['train_precision'].mean()))\n",
    "print(\"Train set mean r2:        {}\". format(cv['train_r2'].mean()),\"\\n\")\n",
    "\n",
    "print(\"Test set mean accuracy:   {}\". format(cv[\"test_accuracy\"].mean()))\n",
    "print(\"Test set mean precision:  {}\". format(cv[\"test_precision\"].mean()))\n",
    "print(\"Test set mean r2:         {}\". format(cv[\"test_r2\"].mean()))"
   ]
  },
  {
   "cell_type": "code",
   "execution_count": 63,
   "metadata": {},
   "outputs": [
    {
     "name": "stdout",
     "output_type": "stream",
     "text": [
      "Model scores:\n",
      "[0.78888889 0.79775281 0.73033708 0.83146067 0.80898876 0.7752809\n",
      " 0.75280899 0.75280899 0.79775281 0.78651685]\n"
     ]
    }
   ],
   "source": [
    "cv2=cross_val_score(estimator=log_reg_model, X=X, y=Y, cv=10)\n",
    "\n",
    "print(\"Model scores:\", cv2, sep=\"\\n\")"
   ]
  },
  {
   "cell_type": "code",
   "execution_count": 70,
   "metadata": {},
   "outputs": [
    {
     "name": "stdout",
     "output_type": "stream",
     "text": [
      "[0 1 1 1 0 0 0 0 1 1 1 1 0 0 1 1 0 0 1 1]\n"
     ]
    }
   ],
   "source": [
    "from sklearn.model_selection import cross_val_predict\n",
    "\n",
    "y_pred=cross_val_predict(estimator=log_reg_model, X=X, y=Y, cv=10)\n",
    "\n",
    "print(y_pred[0:20])"
   ]
  },
  {
   "cell_type": "markdown",
   "metadata": {},
   "source": [
    "### Hyperparameter Tuning"
   ]
  },
  {
   "cell_type": "markdown",
   "metadata": {},
   "source": [
    "#### 1) GridSearchCV"
   ]
  },
  {
   "cell_type": "code",
   "execution_count": 71,
   "metadata": {},
   "outputs": [],
   "source": [
    "parameters= {\"C\": [10**x for x in range(-5,5,1)],\n",
    "            \"penalty\": [\"l1\", \"l2\"]}"
   ]
  },
  {
   "cell_type": "code",
   "execution_count": 76,
   "metadata": {},
   "outputs": [
    {
     "data": {
      "text/plain": [
       "GridSearchCV(cv=10, estimator=LogisticRegression(),\n",
       "             param_grid={'C': [1e-05, 0.0001, 0.001, 0.01, 0.1, 1, 10, 100,\n",
       "                               1000, 10000],\n",
       "                         'penalty': ['l1', 'l2']})"
      ]
     },
     "execution_count": 76,
     "metadata": {},
     "output_type": "execute_result"
    }
   ],
   "source": [
    "from sklearn.model_selection import GridSearchCV\n",
    "\n",
    "grid_cv = GridSearchCV(estimator= log_reg, param_grid= parameters, cv=10)\n",
    "\n",
    "grid_cv.fit(X,Y)"
   ]
  },
  {
   "cell_type": "code",
   "execution_count": 77,
   "metadata": {},
   "outputs": [
    {
     "name": "stdout",
     "output_type": "stream",
     "text": [
      "Best parameters:  {'C': 10, 'penalty': 'l2'}\n",
      "Best score: 0.7844943820224719\n"
     ]
    }
   ],
   "source": [
    "print(\"Best parameters: \", grid_cv.best_params_)\n",
    "print(\"Best score:\", grid_cv.best_score_)"
   ]
  },
  {
   "cell_type": "code",
   "execution_count": 85,
   "metadata": {},
   "outputs": [
    {
     "data": {
      "text/html": [
       "<div>\n",
       "<style scoped>\n",
       "    .dataframe tbody tr th:only-of-type {\n",
       "        vertical-align: middle;\n",
       "    }\n",
       "\n",
       "    .dataframe tbody tr th {\n",
       "        vertical-align: top;\n",
       "    }\n",
       "\n",
       "    .dataframe thead th {\n",
       "        text-align: right;\n",
       "    }\n",
       "</style>\n",
       "<table border=\"1\" class=\"dataframe\">\n",
       "  <thead>\n",
       "    <tr style=\"text-align: right;\">\n",
       "      <th></th>\n",
       "      <th>mean_fit_time</th>\n",
       "      <th>std_fit_time</th>\n",
       "      <th>mean_score_time</th>\n",
       "      <th>std_score_time</th>\n",
       "      <th>param_C</th>\n",
       "      <th>param_penalty</th>\n",
       "    </tr>\n",
       "  </thead>\n",
       "  <tbody>\n",
       "    <tr>\n",
       "      <th>0</th>\n",
       "      <td>0.002967</td>\n",
       "      <td>0.002203</td>\n",
       "      <td>0.000000</td>\n",
       "      <td>0.00000</td>\n",
       "      <td>1e-05</td>\n",
       "      <td>l1</td>\n",
       "    </tr>\n",
       "    <tr>\n",
       "      <th>1</th>\n",
       "      <td>0.007839</td>\n",
       "      <td>0.008491</td>\n",
       "      <td>0.007397</td>\n",
       "      <td>0.00735</td>\n",
       "      <td>1e-05</td>\n",
       "      <td>l2</td>\n",
       "    </tr>\n",
       "    <tr>\n",
       "      <th>2</th>\n",
       "      <td>0.000409</td>\n",
       "      <td>0.000943</td>\n",
       "      <td>0.000000</td>\n",
       "      <td>0.00000</td>\n",
       "      <td>0.0001</td>\n",
       "      <td>l1</td>\n",
       "    </tr>\n",
       "  </tbody>\n",
       "</table>\n",
       "</div>"
      ],
      "text/plain": [
       "   mean_fit_time  std_fit_time  mean_score_time  std_score_time param_C  \\\n",
       "0       0.002967      0.002203         0.000000         0.00000   1e-05   \n",
       "1       0.007839      0.008491         0.007397         0.00735   1e-05   \n",
       "2       0.000409      0.000943         0.000000         0.00000  0.0001   \n",
       "\n",
       "  param_penalty  \n",
       "0            l1  \n",
       "1            l2  \n",
       "2            l1  "
      ]
     },
     "metadata": {},
     "output_type": "display_data"
    }
   ],
   "source": [
    "results= grid_cv.cv_results_\n",
    "\n",
    "df_result=pd.DataFrame(results)\n",
    "display(df_result.head(3).iloc[:,:6])"
   ]
  },
  {
   "cell_type": "code",
   "execution_count": 88,
   "metadata": {},
   "outputs": [
    {
     "data": {
      "text/html": [
       "<div>\n",
       "<style scoped>\n",
       "    .dataframe tbody tr th:only-of-type {\n",
       "        vertical-align: middle;\n",
       "    }\n",
       "\n",
       "    .dataframe tbody tr th {\n",
       "        vertical-align: top;\n",
       "    }\n",
       "\n",
       "    .dataframe thead th {\n",
       "        text-align: right;\n",
       "    }\n",
       "</style>\n",
       "<table border=\"1\" class=\"dataframe\">\n",
       "  <thead>\n",
       "    <tr style=\"text-align: right;\">\n",
       "      <th></th>\n",
       "      <th>param_penalty</th>\n",
       "      <th>param_C</th>\n",
       "      <th>mean_test_score</th>\n",
       "    </tr>\n",
       "  </thead>\n",
       "  <tbody>\n",
       "    <tr>\n",
       "      <th>13</th>\n",
       "      <td>l2</td>\n",
       "      <td>10</td>\n",
       "      <td>0.784494</td>\n",
       "    </tr>\n",
       "    <tr>\n",
       "      <th>15</th>\n",
       "      <td>l2</td>\n",
       "      <td>100</td>\n",
       "      <td>0.784494</td>\n",
       "    </tr>\n",
       "    <tr>\n",
       "      <th>17</th>\n",
       "      <td>l2</td>\n",
       "      <td>1000</td>\n",
       "      <td>0.784494</td>\n",
       "    </tr>\n",
       "    <tr>\n",
       "      <th>19</th>\n",
       "      <td>l2</td>\n",
       "      <td>10000</td>\n",
       "      <td>0.784494</td>\n",
       "    </tr>\n",
       "    <tr>\n",
       "      <th>9</th>\n",
       "      <td>l2</td>\n",
       "      <td>0.1</td>\n",
       "      <td>0.783396</td>\n",
       "    </tr>\n",
       "    <tr>\n",
       "      <th>11</th>\n",
       "      <td>l2</td>\n",
       "      <td>1</td>\n",
       "      <td>0.782260</td>\n",
       "    </tr>\n",
       "    <tr>\n",
       "      <th>7</th>\n",
       "      <td>l2</td>\n",
       "      <td>0.01</td>\n",
       "      <td>0.756492</td>\n",
       "    </tr>\n",
       "    <tr>\n",
       "      <th>1</th>\n",
       "      <td>l2</td>\n",
       "      <td>1e-05</td>\n",
       "      <td>0.616167</td>\n",
       "    </tr>\n",
       "    <tr>\n",
       "      <th>3</th>\n",
       "      <td>l2</td>\n",
       "      <td>0.0001</td>\n",
       "      <td>0.616167</td>\n",
       "    </tr>\n",
       "    <tr>\n",
       "      <th>5</th>\n",
       "      <td>l2</td>\n",
       "      <td>0.001</td>\n",
       "      <td>0.616167</td>\n",
       "    </tr>\n",
       "    <tr>\n",
       "      <th>0</th>\n",
       "      <td>l1</td>\n",
       "      <td>1e-05</td>\n",
       "      <td>NaN</td>\n",
       "    </tr>\n",
       "    <tr>\n",
       "      <th>2</th>\n",
       "      <td>l1</td>\n",
       "      <td>0.0001</td>\n",
       "      <td>NaN</td>\n",
       "    </tr>\n",
       "    <tr>\n",
       "      <th>4</th>\n",
       "      <td>l1</td>\n",
       "      <td>0.001</td>\n",
       "      <td>NaN</td>\n",
       "    </tr>\n",
       "    <tr>\n",
       "      <th>6</th>\n",
       "      <td>l1</td>\n",
       "      <td>0.01</td>\n",
       "      <td>NaN</td>\n",
       "    </tr>\n",
       "    <tr>\n",
       "      <th>8</th>\n",
       "      <td>l1</td>\n",
       "      <td>0.1</td>\n",
       "      <td>NaN</td>\n",
       "    </tr>\n",
       "    <tr>\n",
       "      <th>10</th>\n",
       "      <td>l1</td>\n",
       "      <td>1</td>\n",
       "      <td>NaN</td>\n",
       "    </tr>\n",
       "    <tr>\n",
       "      <th>12</th>\n",
       "      <td>l1</td>\n",
       "      <td>10</td>\n",
       "      <td>NaN</td>\n",
       "    </tr>\n",
       "    <tr>\n",
       "      <th>14</th>\n",
       "      <td>l1</td>\n",
       "      <td>100</td>\n",
       "      <td>NaN</td>\n",
       "    </tr>\n",
       "    <tr>\n",
       "      <th>16</th>\n",
       "      <td>l1</td>\n",
       "      <td>1000</td>\n",
       "      <td>NaN</td>\n",
       "    </tr>\n",
       "    <tr>\n",
       "      <th>18</th>\n",
       "      <td>l1</td>\n",
       "      <td>10000</td>\n",
       "      <td>NaN</td>\n",
       "    </tr>\n",
       "  </tbody>\n",
       "</table>\n",
       "</div>"
      ],
      "text/plain": [
       "   param_penalty param_C  mean_test_score\n",
       "13            l2      10         0.784494\n",
       "15            l2     100         0.784494\n",
       "17            l2    1000         0.784494\n",
       "19            l2   10000         0.784494\n",
       "9             l2     0.1         0.783396\n",
       "11            l2       1         0.782260\n",
       "7             l2    0.01         0.756492\n",
       "1             l2   1e-05         0.616167\n",
       "3             l2  0.0001         0.616167\n",
       "5             l2   0.001         0.616167\n",
       "0             l1   1e-05              NaN\n",
       "2             l1  0.0001              NaN\n",
       "4             l1   0.001              NaN\n",
       "6             l1    0.01              NaN\n",
       "8             l1     0.1              NaN\n",
       "10            l1       1              NaN\n",
       "12            l1      10              NaN\n",
       "14            l1     100              NaN\n",
       "16            l1    1000              NaN\n",
       "18            l1   10000              NaN"
      ]
     },
     "execution_count": 88,
     "metadata": {},
     "output_type": "execute_result"
    }
   ],
   "source": [
    "df_result=df_result[[\"param_penalty\",\"param_C\",\"mean_test_score\"]]\n",
    "df_result=df_result.sort_values(by=\"mean_test_score\", ascending=False)\n",
    "df_result"
   ]
  },
  {
   "cell_type": "code",
   "execution_count": 89,
   "metadata": {},
   "outputs": [
    {
     "data": {
      "image/png": "[encoded data removed]",
      "text/plain": [
       "<Figure size 432x288 with 1 Axes>"
      ]
     },
     "metadata": {
      "needs_background": "light"
     },
     "output_type": "display_data"
    }
   ],
   "source": [
    "sns.scatterplot(x=\"param_C\", y=\"mean_test_score\", hue=\"param_penalty\",data=df_result)\n",
    "plt.xscale(\"symlog\");\n",
    "\n",
    "# grafikten de görüldüğü gibi l1 parametresi nin performansı iyi değildir"
   ]
  },
  {
   "cell_type": "markdown",
   "metadata": {},
   "source": [
    "#### 2) RandomizedSearchCV"
   ]
  },
  {
   "cell_type": "code",
   "execution_count": 91,
   "metadata": {},
   "outputs": [
    {
     "data": {
      "text/plain": [
       "RandomizedSearchCV(cv=10, estimator=LogisticRegression(),\n",
       "                   param_distributions={'C': [1e-05, 0.0001, 0.001, 0.01, 0.1,\n",
       "                                              1, 10, 100, 1000, 10000],\n",
       "                                        'penalty': ['l1', 'l2']},\n",
       "                   random_state=111, scoring='precision')"
      ]
     },
     "execution_count": 91,
     "metadata": {},
     "output_type": "execute_result"
    }
   ],
   "source": [
    "from sklearn.model_selection import RandomizedSearchCV\n",
    "\n",
    "parameters= {\"C\": [10**x for x in range(-5,5,1)],\n",
    "            \"penalty\": [\"l1\", \"l2\"]}\n",
    "\n",
    "rs_cv=RandomizedSearchCV(estimator=log_reg,\n",
    "                        param_distributions=parameters,\n",
    "                        cv=10,\n",
    "                        n_iter=10,\n",
    "                        random_state=111,\n",
    "                        scoring=\"precision\")\n",
    "rs_cv.fit(X,Y)\n"
   ]
  },
  {
   "cell_type": "code",
   "execution_count": 92,
   "metadata": {},
   "outputs": [
    {
     "name": "stdout",
     "output_type": "stream",
     "text": [
      "{'penalty': 'l2', 'C': 10}\n",
      "0.7226249115137265\n"
     ]
    }
   ],
   "source": [
    "print(rs_cv.best_params_)\n",
    "print(rs_cv.best_score_)"
   ]
  },
  {
   "cell_type": "markdown",
   "metadata": {},
   "source": [
    "Randomized search algoritmasının en iyi doğruluğu %72 iken grid search algoritmasının %78'dir; dolayıısyla grid search algoritmasını kullanmak model tahminin de daha avantajlıdır."
   ]
  }
 ],
 "metadata": {
  "kernelspec": {
   "display_name": "Python 3",
   "language": "python",
   "name": "python3"
  },
  "language_info": {
   "codemirror_mode": {
    "name": "ipython",
    "version": 3
   },
   "file_extension": ".py",
   "mimetype": "text/x-python",
   "name": "python",
   "nbconvert_exporter": "python",
   "pygments_lexer": "ipython3",
   "version": "3.7.3"
  }
 },
 "nbformat": 4,
 "nbformat_minor": 2
}
